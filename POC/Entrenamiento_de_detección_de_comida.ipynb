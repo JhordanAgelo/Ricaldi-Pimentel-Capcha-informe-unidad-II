{
  "nbformat": 4,
  "nbformat_minor": 0,
  "metadata": {
    "colab": {
      "provenance": [],
      "gpuType": "T4"
    },
    "kernelspec": {
      "name": "python3",
      "display_name": "Python 3"
    },
    "language_info": {
      "name": "python"
    },
    "accelerator": "GPU"
  },
  "cells": [
    {
      "cell_type": "markdown",
      "source": [
        "<h1>\n",
        "  <b>\n",
        "    Creación y entrenamiento del modelo de detección de comida saludable\n",
        "  </b>\n",
        "</h1>\n",
        "\n",
        "---"
      ],
      "metadata": {
        "id": "PqXuk5dBi07W"
      }
    },
    {
      "cell_type": "markdown",
      "source": [
        "<h3>\n",
        "  Montar el modelo en Google Drive\n",
        "</h3>"
      ],
      "metadata": {
        "id": "kl_AdC7RjLNJ"
      }
    },
    {
      "cell_type": "code",
      "source": [
        "from google.colab import drive\n",
        "\n",
        "# Monta Google Drive\n",
        "drive.mount('/content/drive')"
      ],
      "metadata": {
        "id": "63Hpeb5jiB9p",
        "colab": {
          "base_uri": "https://localhost:8080/"
        },
        "outputId": "a1339fb1-cb2f-4c71-84d8-8cae67af537b"
      },
      "execution_count": null,
      "outputs": [
        {
          "output_type": "stream",
          "name": "stdout",
          "text": [
            "Mounted at /content/drive\n"
          ]
        }
      ]
    },
    {
      "cell_type": "markdown",
      "source": [
        "---\n",
        "<h3>\n",
        "  Cargar las imágenes etiquetadas desde Google Drive\n",
        "</h3>"
      ],
      "metadata": {
        "id": "d-esveVkjdKv"
      }
    },
    {
      "cell_type": "code",
      "source": [
        "import os\n",
        "import cv2\n",
        "import numpy as np\n",
        "\n",
        "# Rutas a las carpetas de imágenes\n",
        "ruta_saludable = '/content/drive/My Drive/Colab/data/saludable'\n",
        "ruta_no_saludable = '/content/drive/My Drive/Colab/data/no_saludable'\n",
        "\n",
        "# Función para cargar y preprocesar imágenes desde carpetas separadas\n",
        "def cargar_imagenes_desde_carpetas(ruta_saludable, ruta_no_saludable):\n",
        "    datos = []\n",
        "    for ruta, etiqueta in [(ruta_saludable, 0), (ruta_no_saludable, 1)]:\n",
        "        for archivo in os.listdir(ruta):\n",
        "            # Leer la imagen y preprocesarla (ajustar según tus necesidades)\n",
        "            imagen = cv2.imread(os.path.join(ruta, archivo))\n",
        "            imagen = cv2.resize(imagen, (224, 224))\n",
        "            imagen = imagen / 255.0  # Normalizar\n",
        "            datos.append((imagen, etiqueta))\n",
        "    return datos\n",
        "\n",
        "# Cargar imágenes desde carpetas\n",
        "datos = cargar_imagenes_desde_carpetas(ruta_saludable, ruta_no_saludable)\n",
        "\n",
        "# Dividir los datos en características (X) y etiquetas (y)\n",
        "X, y = zip(*datos)\n",
        "\n",
        "# Convertir a arreglos NumPy\n",
        "X = np.array(X)\n",
        "y = np.array(y)\n",
        "\n",
        "# Dividir los datos en entrenamiento y validación\n",
        "from sklearn.model_selection import train_test_split\n",
        "X_train, X_val, y_train, y_val = train_test_split(X, y, test_size=0.2, random_state=42)"
      ],
      "metadata": {
        "id": "1ZJRjcmo3cRw"
      },
      "execution_count": null,
      "outputs": []
    },
    {
      "cell_type": "markdown",
      "source": [
        "---\n",
        "<h3>\n",
        "  Entrenamiento del modelo\n",
        "</h3>"
      ],
      "metadata": {
        "id": "1oFvdlC_js63"
      }
    },
    {
      "cell_type": "code",
      "source": [
        "# Entrenar el modelo\n",
        "from tensorflow.keras.applications import VGG16\n",
        "from tensorflow.keras.layers import Flatten, Dense\n",
        "from tensorflow.keras.models import Model\n",
        "\n",
        "# Cargar el modelo base pre-entrenado (VGG16 en este caso)\n",
        "base_model = VGG16(weights='imagenet', include_top=False, input_shape=(224, 224, 3))\n",
        "\n",
        "# Congelar las capas del modelo base para que no se actualicen durante el entrenamiento\n",
        "for layer in base_model.layers:\n",
        "    layer.trainable = False\n",
        "\n",
        "# Agregar capas personalizadas para la clasificación\n",
        "x = base_model.output\n",
        "x = Flatten()(x)\n",
        "predictions = Dense(2, activation='softmax')(x)  # 2 clases: saludable o no saludable\n",
        "\n",
        "# Crear el modelo final\n",
        "model = Model(inputs=base_model.input, outputs=predictions)\n",
        "\n",
        "# Compilar el modelo\n",
        "model.compile(optimizer='adam', loss='sparse_categorical_crossentropy', metrics=['accuracy'])\n",
        "model.fit(X_train, y_train, epochs=10, batch_size=32, validation_data=(X_val, y_val))"
      ],
      "metadata": {
        "id": "u-JFFIeMEebT",
        "colab": {
          "base_uri": "https://localhost:8080/"
        },
        "outputId": "fb9b1777-83ed-4738-b3d7-1543faa5018d"
      },
      "execution_count": null,
      "outputs": [
        {
          "output_type": "stream",
          "name": "stdout",
          "text": [
            "Downloading data from https://storage.googleapis.com/tensorflow/keras-applications/vgg16/vgg16_weights_tf_dim_ordering_tf_kernels_notop.h5\n",
            "58889256/58889256 [==============================] - 0s 0us/step\n",
            "Epoch 1/10\n",
            "12/12 [==============================] - 18s 552ms/step - loss: 1.5061 - accuracy: 0.5419 - val_loss: 0.5955 - val_accuracy: 0.7500\n",
            "Epoch 2/10\n",
            "12/12 [==============================] - 2s 155ms/step - loss: 0.5755 - accuracy: 0.7461 - val_loss: 0.3400 - val_accuracy: 0.8333\n",
            "Epoch 3/10\n",
            "12/12 [==============================] - 2s 155ms/step - loss: 0.2503 - accuracy: 0.8927 - val_loss: 0.2553 - val_accuracy: 0.9062\n",
            "Epoch 4/10\n",
            "12/12 [==============================] - 2s 179ms/step - loss: 0.1335 - accuracy: 0.9529 - val_loss: 0.3379 - val_accuracy: 0.8021\n",
            "Epoch 5/10\n",
            "12/12 [==============================] - 2s 154ms/step - loss: 0.0743 - accuracy: 0.9895 - val_loss: 0.2446 - val_accuracy: 0.9271\n",
            "Epoch 6/10\n",
            "12/12 [==============================] - 2s 158ms/step - loss: 0.0432 - accuracy: 0.9974 - val_loss: 0.2007 - val_accuracy: 0.9375\n",
            "Epoch 7/10\n",
            "12/12 [==============================] - 2s 183ms/step - loss: 0.0304 - accuracy: 1.0000 - val_loss: 0.1937 - val_accuracy: 0.9271\n",
            "Epoch 8/10\n",
            "12/12 [==============================] - 2s 163ms/step - loss: 0.0229 - accuracy: 1.0000 - val_loss: 0.1971 - val_accuracy: 0.9167\n",
            "Epoch 9/10\n",
            "12/12 [==============================] - 2s 155ms/step - loss: 0.0193 - accuracy: 1.0000 - val_loss: 0.1851 - val_accuracy: 0.9375\n",
            "Epoch 10/10\n",
            "12/12 [==============================] - 2s 155ms/step - loss: 0.0171 - accuracy: 1.0000 - val_loss: 0.1868 - val_accuracy: 0.9271\n"
          ]
        },
        {
          "output_type": "execute_result",
          "data": {
            "text/plain": [
              "<keras.src.callbacks.History at 0x7fc1040fe7d0>"
            ]
          },
          "metadata": {},
          "execution_count": 3
        }
      ]
    },
    {
      "cell_type": "markdown",
      "source": [
        "---\n",
        "<h3>  \n",
        "    Comporbar la precisión del modelo\n",
        "</h3>"
      ],
      "metadata": {
        "id": "h-HEAFmpeMgY"
      }
    },
    {
      "cell_type": "code",
      "source": [
        "# Evaluar el modelo con el conjunto de validación\n",
        "score = model.evaluate(X_val, y_val)\n",
        "print(\"Precisión en el conjunto de validación: {:.2f}%\".format(score[1] * 100))"
      ],
      "metadata": {
        "id": "5pM_ErSCNiM9",
        "colab": {
          "base_uri": "https://localhost:8080/"
        },
        "outputId": "a9731da4-4424-426c-98ed-cc7bb00286c7"
      },
      "execution_count": null,
      "outputs": [
        {
          "output_type": "stream",
          "name": "stdout",
          "text": [
            "3/3 [==============================] - 0s 122ms/step - loss: 0.1868 - accuracy: 0.9271\n",
            "Precisión en el conjunto de validación: 92.71%\n"
          ]
        }
      ]
    },
    {
      "cell_type": "markdown",
      "source": [
        "---\n",
        "<h3>\n",
        "    Elegir imagen para probar el modelo y mostsrar su resultado\n",
        "</h3>"
      ],
      "metadata": {
        "id": "MIRhbH-KnFj3"
      }
    },
    {
      "cell_type": "code",
      "source": [
        "nueva_imagen = cv2.imread('/content/drive/My Drive/Colab/data/pruebas/prueba2.jpg')\n",
        "nueva_imagen = cv2.resize(nueva_imagen, (224, 224))\n",
        "nueva_imagen = nueva_imagen / 255.0  # Normalizar\n",
        "nueva_imagen = np.expand_dims(nueva_imagen, axis=0)\n",
        "\n",
        "# Hacer la predicción\n",
        "prediccion = model.predict(nueva_imagen)\n",
        "\n",
        "# La salida de la red es un vector de probabilidades para cada clase\n",
        "# Si tienes dos clases (saludable y no saludable), puedes usar argmax para obtener la clase predicha\n",
        "clase_predicha = np.argmax(prediccion, axis=1)\n",
        "\n",
        "# Imprimir el resultado\n",
        "if clase_predicha == 0:\n",
        "    print(\"La comida en la imagen es saludable.\")\n",
        "else:\n",
        "    print(\"La comida en la imagen no es saludable.\")"
      ],
      "metadata": {
        "id": "hBaCJNgfOEb8",
        "colab": {
          "base_uri": "https://localhost:8080/"
        },
        "outputId": "b8e5defc-da04-44c5-b87b-c63c03158ef1"
      },
      "execution_count": null,
      "outputs": [
        {
          "output_type": "stream",
          "name": "stdout",
          "text": [
            "1/1 [==============================] - 0s 18ms/step\n",
            "La comida en la imagen es saludable.\n"
          ]
        }
      ]
    },
    {
      "cell_type": "markdown",
      "source": [
        "---\n",
        "<h3>  \n",
        "    Guardar el modelo como \".h5\" para usar como API\n",
        "</h3>"
      ],
      "metadata": {
        "id": "E4PccpYUuJCC"
      }
    },
    {
      "cell_type": "code",
      "source": [
        "model.save('modelo_entrenado.h5')\n",
        "!ls"
      ],
      "metadata": {
        "id": "4CMRIDnPs8TL",
        "colab": {
          "base_uri": "https://localhost:8080/"
        },
        "outputId": "1ae17faf-6ad0-4a5e-907e-a96a1584c4dc"
      },
      "execution_count": null,
      "outputs": [
        {
          "output_type": "stream",
          "name": "stdout",
          "text": [
            "drive  modelo_entrenado.h5  sample_data\n"
          ]
        }
      ]
    },
    {
      "cell_type": "markdown",
      "source": [
        "---"
      ],
      "metadata": {
        "id": "Cwo32_dlmZnw"
      }
    }
  ]
}